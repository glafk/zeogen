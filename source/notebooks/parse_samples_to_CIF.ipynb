{
 "cells": [
  {
   "cell_type": "code",
   "execution_count": 1,
   "metadata": {},
   "outputs": [
    {
     "name": "stderr",
     "output_type": "stream",
     "text": [
      "c:\\Users\\dglav\\Anaconda3\\envs\\thesis\\Lib\\site-packages\\tqdm\\auto.py:21: TqdmWarning: IProgress not found. Please update jupyter and ipywidgets. See https://ipywidgets.readthedocs.io/en/stable/user_install.html\n",
      "  from .autonotebook import tqdm as notebook_tqdm\n"
     ]
    }
   ],
   "source": [
    "import os\n",
    "import pickle\n",
    "from pathlib import Path\n",
    "import numpy as np\n",
    "\n",
    "# import required module\n",
    "import sys\n",
    " \n",
    "# append the path of the\n",
    "# parent directory\n",
    "sys.path.append(\"..\")\n",
    " \n",
    "# import method from sibling \n",
    "# module\n",
    "from data_utils import save_samples_as_cifs, save_reconstructions_as_cifs, visualize_trajectory\n",
    "from utils import retrieve_artifacts_by_name\n",
    "\n",
    "\n",
    "import env\n",
    "\n",
    "# Load environment variables\n",
    "env.load_envs()\n",
    "\n",
    "# Set the cwd to the project root\n",
    "PROJECT_ROOT: Path = Path(env.get_env(\"PROJECT_ROOT\"))\n",
    "assert (\n",
    "    PROJECT_ROOT.exists()\n",
    "), \"You must configure the PROJECT_ROOT environment variable in a .env file!\"\n",
    "\n",
    "os.chdir(PROJECT_ROOT)\n",
    "\n",
    "cwd = os.getcwd()"
   ]
  },
  {
   "cell_type": "markdown",
   "metadata": {},
   "source": [
    "## Parse samples"
   ]
  },
  {
   "cell_type": "code",
   "execution_count": null,
   "metadata": {},
   "outputs": [],
   "source": [
    "experiment_name = \"\"\n",
    "\n",
    "artifact_files = retrieve_artifacts_by_name(experiment_name, artifact_type='dataset', project='zeogen', entity='glafk')\n",
    "\n",
    "for file in artifact_files:\n",
    "    if \"samples\" in file:\n",
    "        with open(file, \"rb\") as f:\n",
    "            samples = pickle.load(f)\n",
    "\n",
    "\n",
    "save_samples_as_cifs(samples, os.path.join(cwd, f\"parsed_samples/samples_{experiment_name}\"))\n"
   ]
  },
  {
   "cell_type": "code",
   "execution_count": null,
   "metadata": {},
   "outputs": [],
   "source": [
    "with open(\"./samples/samples_low_noise.pickle\", \"rb\") as f:\n",
    "    samples = pickle.load(f)\n",
    "\n",
    "print(samples.keys())\n",
    "print(samples[\"all_frac_coords\"].shape)\n",
    "samples[\"atom_types\"] = samples[\"atom_types\"].cpu()\n",
    "samples[\"angles\"] = samples[\"angles\"].cpu()\n",
    "samples[\"lengths\"] = samples[\"lengths\"].cpu()\n",
    "samples[\"num_atoms\"] = samples[\"num_atoms\"].cpu()\n",
    "samples[\"frac_coords\"] = samples[\"frac_coords\"].cpu()\n",
    "samples[\"all_frac_coords\"] = samples[\"all_frac_coords\"].cpu()\n",
    "\n",
    "# Split atom types\n",
    "split_atom_types = np.split(samples[\"atom_types\"], np.cumsum(samples[\"num_atoms\"])[:-1])\n",
    "\n",
    "# Split fractional coordinates\n",
    "split_frac_coords = np.split(samples[\"frac_coords\"], np.cumsum(samples[\"num_atoms\"])[:-1])\n",
    "\n",
    "\n",
    "trajectories = [samples[\"all_frac_coords\"][:, i*48:(i+1)*48] for i in range(50)]\n",
    "\n",
    "individual_samples = []\n",
    "for i in range(len(samples[\"num_atoms\"])):\n",
    "    individual_samples.append({\"atom_types\": split_atom_types[i], \"frac_coords\": split_frac_coords[i], \"lengths\": samples[\"lengths\"][i], \"angles\": samples[\"angles\"][i]})\n",
    "\n",
    "print(trajectories[0].shape)\n",
    "print(trajectories[0].min(), trajectories[0].max())\n",
    "visualize_trajectory(trajectories[0][-100:,0,:], individual_samples[0][\"lengths\"])"
   ]
  },
  {
   "cell_type": "markdown",
   "metadata": {},
   "source": [
    "## Parse reconstructions"
   ]
  },
  {
   "cell_type": "code",
   "execution_count": null,
   "metadata": {},
   "outputs": [],
   "source": [
    "experiment_name = \"\"\n",
    "\n",
    "artifact_files = retrieve_artifacts_by_name(experiment_name, artifact_type='dataset', project='zeogen', entity='glafk')\n",
    "\n",
    "for file in artifact_files:\n",
    "    if \"reconstructions\" in file:\n",
    "        with open(file, \"rb\") as f:\n",
    "            reconstructions = pickle.load(f)\n",
    "\n",
    "recon_path = os.path.join(cwd, \"parsed_reconstructions/reconstructions_{experiment_name}\")\n",
    "save_reconstructions_as_cifs(reconstructions, recon_path, save_trajectory=True, downsample_trajectory=True, downsample_frame_rate=5)"
   ]
  },
  {
   "cell_type": "markdown",
   "metadata": {},
   "source": [
    "## Parse reconstruction ground truth"
   ]
  },
  {
   "cell_type": "code",
   "execution_count": null,
   "metadata": {},
   "outputs": [],
   "source": [
    "experiment_name = \"\"\n",
    "\n",
    "artifact_files = retrieve_artifacts_by_name(experiment_name, artifact_type='dataset', project='zeogen', entity='glafk')\n",
    "\n",
    "for file in artifact_files:\n",
    "    if \"reconstructions\" in file and \"gt\" in file:\n",
    "        with open(file, \"rb\") as f:\n",
    "            reconstructions = pickle.load(f)\n",
    "\n",
    "recon_path = os.path.join(cwd, \"parsed_reconstructions/reconstructions_{experiment_name}_gt\")\n",
    "save_reconstructions_as_cifs(reconstructions, recon_path, ground_truth=True)"
   ]
  },
  {
   "cell_type": "code",
   "execution_count": null,
   "metadata": {},
   "outputs": [],
   "source": []
  }
 ],
 "metadata": {
  "kernelspec": {
   "display_name": "thesis",
   "language": "python",
   "name": "python3"
  },
  "language_info": {
   "codemirror_mode": {
    "name": "ipython",
    "version": 3
   },
   "file_extension": ".py",
   "mimetype": "text/x-python",
   "name": "python",
   "nbconvert_exporter": "python",
   "pygments_lexer": "ipython3",
   "version": "3.12.1"
  }
 },
 "nbformat": 4,
 "nbformat_minor": 2
}
