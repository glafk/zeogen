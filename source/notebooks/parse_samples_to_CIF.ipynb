{
 "cells": [
  {
   "cell_type": "code",
   "execution_count": 1,
   "metadata": {},
   "outputs": [
    {
     "name": "stderr",
     "output_type": "stream",
     "text": [
      "c:\\Users\\dglav\\Anaconda3\\envs\\thesis\\Lib\\site-packages\\tqdm\\auto.py:21: TqdmWarning: IProgress not found. Please update jupyter and ipywidgets. See https://ipywidgets.readthedocs.io/en/stable/user_install.html\n",
      "  from .autonotebook import tqdm as notebook_tqdm\n"
     ]
    },
    {
     "name": "stdout",
     "output_type": "stream",
     "text": [
      "c:\\TUE\\Thesis\\zeogen\\source\\notebooks\n",
      "c:/TUE/Thesis/zeogen/parsed_samples\n",
      "Saving to c:/TUE/Thesis/zeogen/parsed_samples\\sample_1.cif.\n",
      "Saving to c:/TUE/Thesis/zeogen/parsed_samples\\sample_2.cif.\n",
      "Saving to c:/TUE/Thesis/zeogen/parsed_samples\\sample_3.cif.\n",
      "Saving to c:/TUE/Thesis/zeogen/parsed_samples\\sample_4.cif.\n",
      "Saving to c:/TUE/Thesis/zeogen/parsed_samples\\sample_5.cif.\n",
      "Saving to c:/TUE/Thesis/zeogen/parsed_samples\\sample_6.cif.\n",
      "Saving to c:/TUE/Thesis/zeogen/parsed_samples\\sample_7.cif.\n",
      "Saving to c:/TUE/Thesis/zeogen/parsed_samples\\sample_8.cif.\n",
      "Saving to c:/TUE/Thesis/zeogen/parsed_samples\\sample_9.cif.\n",
      "Saving to c:/TUE/Thesis/zeogen/parsed_samples\\sample_10.cif.\n",
      "Saving to c:/TUE/Thesis/zeogen/parsed_samples\\sample_11.cif.\n",
      "Saving to c:/TUE/Thesis/zeogen/parsed_samples\\sample_12.cif.\n",
      "Saving to c:/TUE/Thesis/zeogen/parsed_samples\\sample_13.cif.\n",
      "Saving to c:/TUE/Thesis/zeogen/parsed_samples\\sample_14.cif.\n",
      "Saving to c:/TUE/Thesis/zeogen/parsed_samples\\sample_15.cif.\n",
      "Saving to c:/TUE/Thesis/zeogen/parsed_samples\\sample_16.cif.\n",
      "Saving to c:/TUE/Thesis/zeogen/parsed_samples\\sample_17.cif.\n",
      "Saving to c:/TUE/Thesis/zeogen/parsed_samples\\sample_18.cif.\n",
      "Saving to c:/TUE/Thesis/zeogen/parsed_samples\\sample_19.cif.\n",
      "Saving to c:/TUE/Thesis/zeogen/parsed_samples\\sample_20.cif.\n",
      "Saving to c:/TUE/Thesis/zeogen/parsed_samples\\sample_21.cif.\n",
      "Saving to c:/TUE/Thesis/zeogen/parsed_samples\\sample_22.cif.\n",
      "Saving to c:/TUE/Thesis/zeogen/parsed_samples\\sample_23.cif.\n",
      "Saving to c:/TUE/Thesis/zeogen/parsed_samples\\sample_24.cif.\n",
      "Saving to c:/TUE/Thesis/zeogen/parsed_samples\\sample_25.cif.\n",
      "Saving to c:/TUE/Thesis/zeogen/parsed_samples\\sample_26.cif.\n",
      "Saving to c:/TUE/Thesis/zeogen/parsed_samples\\sample_27.cif.\n",
      "Saving to c:/TUE/Thesis/zeogen/parsed_samples\\sample_28.cif.\n",
      "Saving to c:/TUE/Thesis/zeogen/parsed_samples\\sample_29.cif.\n",
      "Saving to c:/TUE/Thesis/zeogen/parsed_samples\\sample_30.cif.\n",
      "Saving to c:/TUE/Thesis/zeogen/parsed_samples\\sample_31.cif.\n",
      "Saving to c:/TUE/Thesis/zeogen/parsed_samples\\sample_32.cif.\n",
      "Saving to c:/TUE/Thesis/zeogen/parsed_samples\\sample_33.cif.\n",
      "Saving to c:/TUE/Thesis/zeogen/parsed_samples\\sample_34.cif.\n",
      "Saving to c:/TUE/Thesis/zeogen/parsed_samples\\sample_35.cif.\n",
      "Saving to c:/TUE/Thesis/zeogen/parsed_samples\\sample_36.cif.\n",
      "Saving to c:/TUE/Thesis/zeogen/parsed_samples\\sample_37.cif.\n",
      "Saving to c:/TUE/Thesis/zeogen/parsed_samples\\sample_38.cif.\n",
      "Saving to c:/TUE/Thesis/zeogen/parsed_samples\\sample_39.cif.\n",
      "Saving to c:/TUE/Thesis/zeogen/parsed_samples\\sample_40.cif.\n",
      "Saving to c:/TUE/Thesis/zeogen/parsed_samples\\sample_41.cif.\n",
      "Saving to c:/TUE/Thesis/zeogen/parsed_samples\\sample_42.cif.\n",
      "Saving to c:/TUE/Thesis/zeogen/parsed_samples\\sample_43.cif.\n",
      "Saving to c:/TUE/Thesis/zeogen/parsed_samples\\sample_44.cif.\n",
      "Saving to c:/TUE/Thesis/zeogen/parsed_samples\\sample_45.cif.\n",
      "Saving to c:/TUE/Thesis/zeogen/parsed_samples\\sample_46.cif.\n",
      "Saving to c:/TUE/Thesis/zeogen/parsed_samples\\sample_47.cif.\n",
      "Saving to c:/TUE/Thesis/zeogen/parsed_samples\\sample_48.cif.\n",
      "Saving to c:/TUE/Thesis/zeogen/parsed_samples\\sample_49.cif.\n",
      "Saving to c:/TUE/Thesis/zeogen/parsed_samples\\sample_50.cif.\n"
     ]
    }
   ],
   "source": [
    "import os\n",
    "import pickle\n",
    "\n",
    "# import required module\n",
    "import sys\n",
    " \n",
    "# append the path of the\n",
    "# parent directory\n",
    "sys.path.append(\"..\")\n",
    " \n",
    "# import method from sibling \n",
    "# module\n",
    "from data_utils import save_samples_as_cifs\n",
    "\n",
    "\n",
    "cwd = os.getcwd()\n",
    "print(cwd)\n",
    "\n",
    "with open(\"samples_test_cluster_run_long_training.pickle\", \"rb\") as f:\n",
    "    samples = pickle.load(f)\n",
    "\n",
    "print(os.path.join(cwd, \"/TUE/Thesis/zeogen/parsed_samples\"))\n",
    "save_samples_as_cifs(samples, os.path.join(cwd, \"/TUE/Thesis/zeogen/parsed_samples\"))"
   ]
  },
  {
   "cell_type": "code",
   "execution_count": null,
   "metadata": {},
   "outputs": [],
   "source": []
  }
 ],
 "metadata": {
  "kernelspec": {
   "display_name": "thesis",
   "language": "python",
   "name": "python3"
  },
  "language_info": {
   "codemirror_mode": {
    "name": "ipython",
    "version": 3
   },
   "file_extension": ".py",
   "mimetype": "text/x-python",
   "name": "python",
   "nbconvert_exporter": "python",
   "pygments_lexer": "ipython3",
   "version": "3.12.1"
  }
 },
 "nbformat": 4,
 "nbformat_minor": 2
}
