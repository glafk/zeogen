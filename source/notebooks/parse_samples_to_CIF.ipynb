{
 "cells": [
  {
   "cell_type": "code",
   "execution_count": 2,
   "metadata": {},
   "outputs": [
    {
     "name": "stdout",
     "output_type": "stream",
     "text": [
      "c:\\TUE\\Thesis\\zeogen\\source\\notebooks\n"
     ]
    }
   ],
   "source": [
    "import os\n",
    "import pickle\n",
    "\n",
    "# import required module\n",
    "import sys\n",
    " \n",
    "# append the path of the\n",
    "# parent directory\n",
    "sys.path.append(\"..\")\n",
    " \n",
    "# import method from sibling \n",
    "# module\n",
    "from data_utils import save_samples_as_cifs\n",
    "\n",
    "\n",
    "cwd = os.getcwd()\n",
    "print(cwd)\n",
    "\n",
    "with open(\"samples.pickle\", \"rb\") as f:\n",
    "    samples = pickle.load(f)\n",
    "\n",
    "print(os.path.join(cwd, \"parsed_samples\"))\n",
    "save_samples_as_cifs(samples, os.path.join(cwd, \"parsed_samples\"))"
   ]
  },
  {
   "cell_type": "code",
   "execution_count": null,
   "metadata": {},
   "outputs": [],
   "source": []
  }
 ],
 "metadata": {
  "kernelspec": {
   "display_name": "thesis",
   "language": "python",
   "name": "python3"
  },
  "language_info": {
   "codemirror_mode": {
    "name": "ipython",
    "version": 3
   },
   "file_extension": ".py",
   "mimetype": "text/x-python",
   "name": "python",
   "nbconvert_exporter": "python",
   "pygments_lexer": "ipython3",
   "version": "3.12.1"
  }
 },
 "nbformat": 4,
 "nbformat_minor": 2
}
