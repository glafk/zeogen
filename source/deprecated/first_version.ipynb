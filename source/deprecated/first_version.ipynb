{
 "cells": [
  {
   "cell_type": "markdown",
   "metadata": {},
   "source": [
    "### Setup VAE\n",
    "#### DEPRECATED"
   ]
  },
  {
   "cell_type": "code",
   "execution_count": 2,
   "metadata": {},
   "outputs": [],
   "source": [
    "from data_utils.dataloaders import ZeoData\n",
    "from data_utils.utils import collate_fn, get_cif_str\n",
    "from source.data_utils.crystal_utils import build_crystal\n",
    "from basic_VAE import BasicVAE\n",
    "import torch\n",
    "from torch.utils.data import DataLoader\n",
    "from torch.optim import Adam\n",
    "import tqdm"
   ]
  },
  {
   "cell_type": "code",
   "execution_count": 3,
   "metadata": {},
   "outputs": [
    {
     "name": "stderr",
     "output_type": "stream",
     "text": [
      "100%|██████████| 100/100 [00:00<00:00, 195.31it/s]\n"
     ]
    }
   ],
   "source": [
    "zeo_data = ZeoData(list(range(100)), 14.919, n_samples=100)"
   ]
  },
  {
   "cell_type": "code",
   "execution_count": 5,
   "metadata": {},
   "outputs": [
    {
     "name": "stderr",
     "output_type": "stream",
     "text": [
      "c:\\Users\\dglav\\Anaconda3\\envs\\thesis\\Lib\\site-packages\\pymatgen\\io\\cif.py:687: UserWarning: A 1-line symmetry op P1 CIF is detected!\n",
      "  warnings.warn(msg)\n",
      "c:\\Users\\dglav\\Anaconda3\\envs\\thesis\\Lib\\site-packages\\pymatgen\\io\\cif.py:1229: UserWarning: Issues encountered while parsing CIF: A 1-line symmetry op P1 CIF is detected!\n",
      "  warnings.warn(\"Issues encountered while parsing CIF: \" + \"\\n\".join(self.warnings))\n"
     ]
    }
   ],
   "source": [
    "cif_str = get_cif_str(f'../data/MOR_dataloader_test_100/RHO_clusters_0.cif')\n",
    "crystal = build_crystal(cif_str, primitive=True)\n"
   ]
  },
  {
   "cell_type": "code",
   "execution_count": 12,
   "metadata": {},
   "outputs": [
    {
     "name": "stdout",
     "output_type": "stream",
     "text": [
      "('Cm', 8)\n",
      "(13, 13, 13, 13, 13, 13, 13, 13, 13, 13, 13, 13, 13, 13, 13, 13, 13, 13, 13, 13, 14, 14, 14, 14, 14, 14, 14, 14, 14, 14, 14, 14, 14, 14, 14, 14, 14, 14, 14, 14, 14, 14, 14, 14, 14, 14, 14, 14, 8, 8, 8, 8, 8, 8, 8, 8, 8, 8, 8, 8, 8, 8, 8, 8, 8, 8, 8, 8, 8, 8, 8, 8, 8, 8, 8, 8, 8, 8, 8, 8, 8, 8, 8, 8, 8, 8, 8, 8, 8, 8, 8, 8, 8, 8, 8, 8, 8, 8, 8, 8, 8, 8, 8, 8, 8, 8, 8, 8, 8, 8, 8, 8, 8, 8, 8, 8, 8, 8, 8, 8, 8, 8, 8, 8, 8, 8, 8, 8, 8, 8, 8, 8, 8, 8, 8, 8, 8, 8, 8, 8, 8, 8, 8, 8)\n"
     ]
    }
   ],
   "source": [
    "\n",
    "print(crystal.get_space_group_info())\n",
    "print(crystal.atomic_numbers)"
   ]
  },
  {
   "cell_type": "markdown",
   "metadata": {},
   "source": [
    "### Train VAE"
   ]
  },
  {
   "cell_type": "code",
   "execution_count": 3,
   "metadata": {},
   "outputs": [
    {
     "name": "stderr",
     "output_type": "stream",
     "text": [
      "100%|██████████| 80/80 [00:00<00:00, 2047.75it/s]\n",
      "100%|██████████| 20/20 [00:00<00:00, 1538.35it/s]\n"
     ]
    }
   ],
   "source": [
    "trainset = ZeoData(list(range(0,80)), 14.919, n_samples=80)\n",
    "testset = ZeoData(list(range(80,100)), 14.919, n_samples=20)\n",
    "\n",
    "lr = 0.01\n",
    "hid_size = 32\n",
    "z_size = 32\n",
    "beta = 0.1\n",
    "adam_beta1 = 0.9\n",
    "adam_beta2 = 0.99\n",
    "batch_size = 16\n",
    "\n",
    "trainloader = DataLoader(trainset, batch_size=batch_size, shuffle=True, collate_fn=collate_fn)\n",
    "testloader = DataLoader(testset, batch_size=batch_size, shuffle=True, collate_fn=collate_fn)"
   ]
  },
  {
   "cell_type": "code",
   "execution_count": 4,
   "metadata": {},
   "outputs": [],
   "source": [
    "vae = BasicVAE(torch.tensor([14.919, 14.919, 14.919]), hidden_size=hid_size, latent_size=z_size).cuda()\n",
    "opt = Adam(vae.parameters(), lr=lr, betas=(adam_beta1, adam_beta2))\n",
    "epochs = 100"
   ]
  },
  {
   "cell_type": "code",
   "execution_count": 8,
   "metadata": {},
   "outputs": [],
   "source": [
    "batch = next(iter(trainloader))"
   ]
  },
  {
   "cell_type": "code",
   "execution_count": 9,
   "metadata": {},
   "outputs": [
    {
     "data": {
      "text/plain": [
       "EdgeDataBatch(x=[768], edge_index=[2, 10752], pos=[768, 3], batch=[768], ptr=[17])"
      ]
     },
     "execution_count": 9,
     "metadata": {},
     "output_type": "execute_result"
    }
   ],
   "source": [
    "batch\n"
   ]
  },
  {
   "cell_type": "code",
   "execution_count": 5,
   "metadata": {},
   "outputs": [
    {
     "name": "stderr",
     "output_type": "stream",
     "text": [
      "400it [00:32, 12.35it/s, loss: 0.015] \n",
      "400it [00:30, 13.28it/s, loss: 0.018] \n",
      "400it [00:30, 13.23it/s, loss: -0.007]\n",
      "400it [00:32, 12.44it/s, loss: 0.015] \n",
      "400it [00:31, 12.88it/s, loss: 0.008] \n",
      "400it [00:29, 13.52it/s, loss: 0.024] \n",
      "400it [00:28, 13.83it/s, loss: 0.007] \n",
      "400it [00:29, 13.75it/s, loss: 0.020] \n",
      "400it [00:29, 13.42it/s, loss: 0.009] \n",
      "400it [00:29, 13.67it/s, loss: -0.004]\n",
      "400it [00:29, 13.64it/s, loss: 0.025] \n",
      "400it [00:28, 13.97it/s, loss: 0.020] \n",
      "400it [00:30, 13.25it/s, loss: 0.009] \n",
      "400it [00:28, 13.83it/s, loss: 0.020] \n",
      "400it [00:26, 15.19it/s, loss: 0.017] \n",
      "400it [00:26, 14.87it/s, loss: 0.014] \n",
      "400it [00:29, 13.44it/s, loss: 0.017] \n",
      "400it [00:29, 13.49it/s, loss: 0.014] \n",
      "400it [00:28, 13.82it/s, loss: 0.013] \n",
      "400it [00:29, 13.50it/s, loss: 0.016] \n",
      "400it [00:29, 13.74it/s, loss: 0.018] \n",
      "400it [00:29, 13.41it/s, loss: 0.025] \n",
      "400it [00:29, 13.51it/s, loss: -0.004]\n",
      "400it [00:29, 13.65it/s, loss: 0.008] \n",
      "400it [00:28, 13.81it/s, loss: 0.010] \n",
      "400it [00:28, 14.16it/s, loss: -0.008]\n",
      "400it [00:28, 13.89it/s, loss: -0.021]\n",
      "400it [00:28, 13.99it/s, loss: -0.003]\n",
      "400it [00:28, 13.88it/s, loss: 0.027] \n",
      "400it [00:28, 14.16it/s, loss: 0.009] \n",
      "400it [00:28, 13.95it/s, loss: 0.011] \n",
      "400it [00:29, 13.43it/s, loss: 0.005] \n",
      "400it [00:28, 14.17it/s, loss: -0.008]\n",
      "400it [00:30, 13.32it/s, loss: 0.013] \n",
      "400it [00:28, 14.26it/s, loss: 0.012] \n",
      "400it [00:27, 14.71it/s, loss: 0.010] \n",
      "400it [00:25, 15.42it/s, loss: 0.029] \n",
      "400it [00:28, 14.13it/s, loss: 0.000] \n",
      "400it [00:28, 14.28it/s, loss: 0.009] \n",
      "400it [00:25, 15.45it/s, loss: 0.010] \n",
      "400it [00:26, 15.10it/s, loss: 0.011] \n",
      "400it [00:25, 15.48it/s, loss: 0.014] \n",
      "400it [00:26, 14.93it/s, loss: -0.004]\n",
      "400it [00:26, 15.09it/s, loss: 0.005] \n",
      "400it [00:26, 15.23it/s, loss: 0.018] \n",
      "400it [00:31, 12.64it/s, loss: -0.009]\n",
      "400it [00:28, 13.79it/s, loss: -0.011]\n",
      "400it [00:29, 13.70it/s, loss: 0.011] \n",
      "400it [00:28, 14.05it/s, loss: -0.006]\n",
      "400it [00:29, 13.36it/s, loss: -0.003]\n",
      "400it [00:27, 14.36it/s, loss: 0.007] \n",
      "400it [00:28, 14.24it/s, loss: 0.004] \n",
      "400it [00:28, 14.04it/s, loss: 0.009] \n",
      "400it [00:27, 14.65it/s, loss: 0.010] \n",
      "400it [00:27, 14.65it/s, loss: 0.002] \n",
      "400it [00:31, 12.90it/s, loss: 0.024] \n",
      "400it [00:36, 11.07it/s, loss: 0.007] \n",
      "400it [00:34, 11.69it/s, loss: 0.018] \n",
      "400it [00:34, 11.55it/s, loss: 0.015] \n",
      "400it [00:26, 14.86it/s, loss: -0.010]\n",
      "400it [00:28, 14.10it/s, loss: -0.007]\n",
      "400it [00:29, 13.39it/s, loss: 0.013] \n",
      "400it [00:28, 14.01it/s, loss: 0.006] \n",
      "400it [00:30, 13.28it/s, loss: 0.006] \n",
      "400it [00:25, 15.64it/s, loss: -0.000]\n",
      "400it [00:26, 15.11it/s, loss: 0.001] \n",
      "400it [00:26, 15.38it/s, loss: 0.012] \n",
      "400it [00:26, 15.17it/s, loss: 0.008] \n",
      "400it [00:26, 15.11it/s, loss: 0.006] \n",
      "400it [00:26, 14.90it/s, loss: 0.001] \n",
      "400it [00:28, 14.26it/s, loss: 0.012] \n",
      "400it [00:26, 15.10it/s, loss: 0.002] \n",
      "400it [00:27, 14.81it/s, loss: 0.025] \n",
      "400it [00:26, 15.16it/s, loss: 0.012] \n",
      "400it [00:26, 15.19it/s, loss: 0.006] \n",
      "400it [00:27, 14.55it/s, loss: 0.011] \n",
      "400it [00:26, 14.87it/s, loss: -0.010]\n",
      "400it [00:28, 13.90it/s, loss: 0.021] \n",
      "400it [00:26, 14.90it/s, loss: 0.022] \n",
      "400it [00:28, 14.20it/s, loss: -0.006]\n",
      "400it [00:31, 12.68it/s, loss: 0.015] \n",
      "400it [00:27, 14.61it/s, loss: 0.006] \n",
      "400it [00:26, 14.89it/s, loss: 0.014] \n",
      "400it [00:26, 14.98it/s, loss: 0.005] \n",
      "400it [00:27, 14.61it/s, loss: 0.011] \n",
      "400it [00:26, 15.01it/s, loss: 0.004] \n",
      "400it [00:26, 14.94it/s, loss: -0.004]\n",
      "400it [00:27, 14.31it/s, loss: 0.010] \n",
      "400it [00:26, 15.00it/s, loss: 0.015] \n",
      "400it [00:27, 14.68it/s, loss: 0.027] \n",
      "400it [00:27, 14.51it/s, loss: -0.006]\n",
      "400it [00:27, 14.60it/s, loss: 0.001] \n",
      "400it [00:27, 14.70it/s, loss: -0.009]\n",
      "400it [00:26, 15.23it/s, loss: -0.009]\n",
      "400it [00:26, 15.01it/s, loss: 0.013] \n",
      "400it [00:26, 15.35it/s, loss: 0.010] \n",
      "400it [00:26, 15.20it/s, loss: -0.003]\n",
      "400it [00:26, 15.18it/s, loss: 0.003] \n",
      "400it [00:25, 15.62it/s, loss: 0.012] \n",
      "400it [00:26, 15.13it/s, loss: 0.009] \n"
     ]
    }
   ],
   "source": [
    "losses = []\n",
    "for e in range(epochs):\n",
    "    vae.train()\n",
    "    n_batches = len(trainloader)\n",
    "    pbar = tqdm.tqdm(enumerate(trainloader))\n",
    "    for idx, databatch in pbar:\n",
    "        log_dict = vae.training_step(databatch, beta=beta, opt=opt)\n",
    "        pbar.set_postfix_str(f\"loss: {log_dict['loss']:.3f}\")\n",
    "        losses.append(log_dict['loss'])\n",
    "        step = e*n_batches + idx"
   ]
  },
  {
   "cell_type": "code",
   "execution_count": null,
   "metadata": {},
   "outputs": [],
   "source": []
  }
 ],
 "metadata": {
  "kernelspec": {
   "display_name": "thesis",
   "language": "python",
   "name": "python3"
  },
  "language_info": {
   "codemirror_mode": {
    "name": "ipython",
    "version": 3
   },
   "file_extension": ".py",
   "mimetype": "text/x-python",
   "name": "python",
   "nbconvert_exporter": "python",
   "pygments_lexer": "ipython3",
   "version": "3.12.1"
  }
 },
 "nbformat": 4,
 "nbformat_minor": 2
}
