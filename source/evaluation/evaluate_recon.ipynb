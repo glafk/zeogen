{
 "cells": [
  {
   "cell_type": "code",
   "execution_count": 1,
   "metadata": {},
   "outputs": [],
   "source": [
    "import os\n",
    "from pathlib import Path\n",
    "\n",
    "# import required module\n",
    "import sys\n",
    " \n",
    "# append the path of the\n",
    "# parent directory\n",
    "sys.path.append(\"..\")\n",
    "\n",
    "import env\n",
    "\n",
    "# Load environment variables\n",
    "env.load_envs()\n",
    "\n",
    "# Set the cwd to the project root\n",
    "PROJECT_ROOT: Path = Path(env.get_env(\"PROJECT_ROOT\"))\n",
    "assert (\n",
    "    PROJECT_ROOT.exists()\n",
    "), \"You must configure the PROJECT_ROOT environment variable in a .env file!\"\n",
    "\n",
    "os.chdir(PROJECT_ROOT)\n",
    "\n",
    "cwd = os.getcwd()"
   ]
  },
  {
   "cell_type": "code",
   "execution_count": 2,
   "metadata": {},
   "outputs": [
    {
     "name": "stderr",
     "output_type": "stream",
     "text": [
      "c:\\Users\\dglav\\Anaconda3\\envs\\thesis\\Lib\\site-packages\\tqdm\\auto.py:21: TqdmWarning: IProgress not found. Please update jupyter and ipywidgets. See https://ipywidgets.readthedocs.io/en/stable/user_install.html\n",
      "  from .autonotebook import tqdm as notebook_tqdm\n",
      "c:\\Users\\dglav\\Anaconda3\\envs\\thesis\\Lib\\site-packages\\pymatgen\\analysis\\local_env.py:4148: UserWarning: No oxidation states specified on sites! For better results, set the site oxidation states in the structure.\n",
      "  warnings.warn(\n",
      "c:\\Users\\dglav\\Anaconda3\\envs\\thesis\\Lib\\site-packages\\pymatgen\\analysis\\local_env.py:3941: UserWarning: CrystalNN: cannot locate an appropriate radius, covalent or atomic radii will be used, this can lead to non-optimal results.\n",
      "  warnings.warn(\n"
     ]
    }
   ],
   "source": [
    "import pickle\n",
    "from evaluation.Crystal import Crystal\n",
    "from evaluation import eval_utils\n",
    "experiment_name = \"reconstructions-150e-mixed-data\"\n",
    "\n",
    "# Load reconstructions and ground truth\n",
    "with open(f\"reconstructions/{experiment_name}.pickle\", \"rb\") as f:\n",
    "    reconstructions = pickle.load(f)\n",
    "\n",
    "with open(f\"reconstructions/{experiment_name}_gt.pickle\", \"rb\") as f:\n",
    "    gt_reconstructions = pickle.load(f)\n",
    "\n",
    "# Map them to crystals\n",
    "reconstructions = [Crystal(x) for x in reconstructions]\n",
    "reconstructions_gt = [Crystal(x) for x in gt_reconstructions]"
   ]
  },
  {
   "cell_type": "code",
   "execution_count": 3,
   "metadata": {},
   "outputs": [
    {
     "name": "stderr",
     "output_type": "stream",
     "text": [
      "  0%|          | 0/10 [00:00<?, ?it/s]"
     ]
    },
    {
     "name": "stderr",
     "output_type": "stream",
     "text": [
      " 50%|█████     | 5/10 [00:00<00:00, 47.28it/s]"
     ]
    },
    {
     "name": "stdout",
     "output_type": "stream",
     "text": [
      "Match: None\n",
      "Match: None\n",
      "Match: None\n",
      "Match: None\n",
      "Match: None\n",
      "Match: None\n",
      "Match: None\n"
     ]
    },
    {
     "name": "stderr",
     "output_type": "stream",
     "text": [
      "100%|██████████| 10/10 [00:00<00:00, 37.62it/s]"
     ]
    },
    {
     "name": "stdout",
     "output_type": "stream",
     "text": [
      "Match: None\n"
     ]
    },
    {
     "name": "stderr",
     "output_type": "stream",
     "text": [
      "\n",
      "c:\\tue\\Thesis\\zeogen\\source\\evaluation\\..\\evaluation\\RecEval.py:36: RuntimeWarning: Mean of empty slice.\n",
      "  mean_rms_dist = rms_dists[rms_dists != None].mean()\n",
      "c:\\Users\\dglav\\Anaconda3\\envs\\thesis\\Lib\\site-packages\\numpy\\core\\_methods.py:131: RuntimeWarning: invalid value encountered in scalar divide\n",
      "  ret = ret / rcount\n"
     ]
    }
   ],
   "source": [
    "from evaluation.RecEval import RecEval\n",
    "rec_evaluator = RecEval(reconstructions, reconstructions_gt)\n",
    "recon_metrics = rec_evaluator.get_metrics()"
   ]
  },
  {
   "cell_type": "code",
   "execution_count": null,
   "metadata": {},
   "outputs": [],
   "source": []
  }
 ],
 "metadata": {
  "kernelspec": {
   "display_name": "thesis",
   "language": "python",
   "name": "python3"
  },
  "language_info": {
   "codemirror_mode": {
    "name": "ipython",
    "version": 3
   },
   "file_extension": ".py",
   "mimetype": "text/x-python",
   "name": "python",
   "nbconvert_exporter": "python",
   "pygments_lexer": "ipython3",
   "version": "3.12.1"
  }
 },
 "nbformat": 4,
 "nbformat_minor": 2
}
