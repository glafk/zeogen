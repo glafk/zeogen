{
 "cells": [
  {
   "cell_type": "code",
   "execution_count": 1,
   "metadata": {},
   "outputs": [
    {
     "name": "stdout",
     "output_type": "stream",
     "text": [
      "['ANA', 'BEC', 'CHA', 'ERI', 'FER', 'HEU', 'LTA', 'LTL', 'MER', 'MTW', 'NAT', 'YFI']\n"
     ]
    }
   ],
   "source": [
    "import os\n",
    "import pickle\n",
    "\n",
    "# Define the directories to process\n",
    "root, directories, files = os.walk(\".\").__next__()\n",
    "\n",
    "print(directories)\n",
    "\n",
    "# Create the \"combined_dataset\" directory if it doesn't exist\n",
    "os.makedirs(\"combined_dataset_gen_data_with_hoa\", exist_ok=True)\n",
    "\n",
    "\n",
    "combined_data_train = []\n",
    "combined_data_val = []\n",
    "combined_data_test = []\n",
    "# Process each directory\n",
    "for directory in directories[1:]:\n",
    "    if \"combined\" not in directory and 'ANA' not in directory:\n",
    "        # Open the train, validation, and test pickle files for the current directory\n",
    "        with open(os.path.join(directory, f\"train.pkl\"), \"rb\") as f:\n",
    "            train_data = pickle.load(f)\n",
    "\n",
    "        with open(os.path.join(directory, f\"val.pkl\"), \"rb\") as f:\n",
    "            val_data = pickle.load(f)\n",
    "\n",
    "        with open(os.path.join(directory, f\"test.pkl\"), \"rb\") as f:\n",
    "            test_data = pickle.load(f)\n",
    "\n",
    "        # Add zeolite code to the data as a property of each record\n",
    "        for data in train_data:\n",
    "            data[\"zeolite_code\"] = directory\n",
    "        for data in val_data:\n",
    "            data[\"zeolite_code\"] = directory\n",
    "        for data in test_data:\n",
    "            data[\"zeolite_code\"] = directory\n",
    "\n",
    "\n",
    "        # Combine the data from each directory into a single list\n",
    "        combined_data_train += train_data\n",
    "        combined_data_val += val_data\n",
    "        combined_data_test += test_data\n",
    "\n",
    "# Save the combined data to a pickle file in the \"combined_dataset\" directory\n",
    "with open(os.path.join(os.getcwd() + \"/combined_dataset_gen_data_with_hoa\", f\"combined_train.pickle\"), \"wb\") as f:\n",
    "    pickle.dump(combined_data_train, f)\n",
    "\n",
    "with open(os.path.join(os.getcwd() + \"/combined_dataset_gen_data_with_hoa\", f\"combined_val.pickle\"), \"wb\") as f:\n",
    "    pickle.dump(combined_data_val, f)\n",
    "\n",
    "with open(os.path.join(os.getcwd() + \"/combined_dataset_gen_data_with_hoa\", f\"combined_test.pickle\"), \"wb\") as f:\n",
    "    pickle.dump(combined_data_test, f)"
   ]
  },
  {
   "cell_type": "code",
   "execution_count": 2,
   "metadata": {},
   "outputs": [
    {
     "name": "stdout",
     "output_type": "stream",
     "text": [
      "3215\n"
     ]
    }
   ],
   "source": [
    "print(len(combined_data_test))"
   ]
  },
  {
   "cell_type": "code",
   "execution_count": 3,
   "metadata": {},
   "outputs": [
    {
     "name": "stdout",
     "output_type": "stream",
     "text": [
      "3198\n"
     ]
    }
   ],
   "source": [
    "print(len(combined_data_val))"
   ]
  },
  {
   "cell_type": "code",
   "execution_count": 4,
   "metadata": {},
   "outputs": [
    {
     "name": "stdout",
     "output_type": "stream",
     "text": [
      "9603\n"
     ]
    }
   ],
   "source": [
    "print(len(combined_data_train))"
   ]
  },
  {
   "cell_type": "code",
   "execution_count": 1,
   "metadata": {},
   "outputs": [],
   "source": [
    "import os\n",
    "import pickle\n",
    "\n",
    "# Create directory if it doesn't exist\n",
    "os.makedirs(\"combined_dataset_total\", exist_ok=True)\n",
    "\n",
    "# Combine the data from combined_dataset_zeonet_data and combined_dataset_gen_data into a single list\n",
    "with open(os.path.join(\"combined_dataset_zeonet_data\", f\"combined_train.pickle\"), \"rb\") as f:\n",
    "    combined_zeonet_data_train = pickle.load(f)\n",
    "\n",
    "with open(os.path.join(\"combined_dataset_gen_data_with_hoa\", f\"combined_train.pickle\"), \"rb\") as f:\n",
    "    combined_gen_data_train = pickle.load(f)\n",
    "\n",
    "combined_data_train = combined_zeonet_data_train + combined_gen_data_train\n",
    "\n",
    "# Save the combined data to a pickle file in the \"combined_dataset_total\" directory\n",
    "with open(os.path.join(\"combined_dataset_total\", f\"combined_train.pickle\"), \"wb\") as f:\n",
    "    pickle.dump(combined_data_train, f)\n",
    "\n",
    "# Do the same for the validation and test sets\n",
    "with open(os.path.join(\"combined_dataset_zeonet_data\", f\"combined_val.pickle\"), \"rb\") as f:\n",
    "    combined_zeonet_data_val = pickle.load(f)\n",
    "\n",
    "with open(os.path.join(\"combined_dataset_gen_data\", f\"combined_val.pickle\"), \"rb\") as f:\n",
    "    combined_gen_data_val = pickle.load(f)\n",
    "\n",
    "combined_data_val = combined_zeonet_data_val + combined_gen_data_val\n",
    "\n",
    "with open(os.path.join(\"combined_dataset_total\", f\"combined_val.pickle\"), \"wb\") as f:\n",
    "    pickle.dump(combined_data_val, f)\n",
    "\n",
    "with open(os.path.join(\"combined_dataset_zeonet_data\", f\"combined_test.pickle\"), \"rb\") as f:\n",
    "    combined_zeonet_data_test = pickle.load(f)\n",
    "\n",
    "with open(os.path.join(\"combined_dataset_gen_data\", f\"combined_test.pickle\"), \"rb\") as f:\n",
    "    combined_gen_data_test = pickle.load(f)\n",
    "\n",
    "combined_data_test = combined_zeonet_data_test + combined_gen_data_test\n",
    "\n",
    "with open(os.path.join(\"combined_dataset_total\", f\"combined_test.pickle\"), \"wb\") as f:\n",
    "    pickle.dump(combined_data_test, f)\n",
    "\n"
   ]
  },
  {
   "cell_type": "code",
   "execution_count": null,
   "metadata": {},
   "outputs": [],
   "source": []
  }
 ],
 "metadata": {
  "kernelspec": {
   "display_name": "thesis",
   "language": "python",
   "name": "python3"
  },
  "language_info": {
   "codemirror_mode": {
    "name": "ipython",
    "version": 3
   },
   "file_extension": ".py",
   "mimetype": "text/x-python",
   "name": "python",
   "nbconvert_exporter": "python",
   "pygments_lexer": "ipython3",
   "version": "3.12.1"
  }
 },
 "nbformat": 4,
 "nbformat_minor": 2
}
