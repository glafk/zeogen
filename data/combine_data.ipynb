{
 "cells": [
  {
   "cell_type": "code",
   "execution_count": 3,
   "metadata": {},
   "outputs": [],
   "source": [
    "import os\n",
    "import pickle\n",
    "\n",
    "# Define the directories to process\n",
    "directories = [\"MOR\", \"MFI\", \"RHO\"]\n",
    "\n",
    "# Create the \"combined_dataset\" directory if it doesn't exist\n",
    "os.makedirs(\"combined_dataset\", exist_ok=True)\n",
    "\n",
    "combined_data_train = []\n",
    "combined_data_val = []\n",
    "combined_data_test = []\n",
    "# Process each directory\n",
    "for directory in directories:\n",
    "    # Open the train, validation, and test pickle files for the current directory\n",
    "    with open(os.path.join(directory, f\"{directory}_train.pickle\"), \"rb\") as f:\n",
    "        train_data = pickle.load(f)[:500]\n",
    "\n",
    "    with open(os.path.join(directory, f\"{directory}_val.pickle\"), \"rb\") as f:\n",
    "        val_data = pickle.load(f)[:500]\n",
    "\n",
    "    with open(os.path.join(directory, f\"{directory}_test.pickle\"), \"rb\") as f:\n",
    "        test_data = pickle.load(f)[:500]\n",
    "\n",
    "    # Combine the data from each directory into a single list\n",
    "    combined_data_train += train_data\n",
    "    combined_data_val += val_data\n",
    "    combined_data_test += test_data\n",
    "\n",
    "# Save the combined data to a pickle file in the \"combined_dataset\" directory\n",
    "with open(os.path.join(\"combined_dataset\", f\"combined_train.pickle\"), \"wb\") as f:\n",
    "    pickle.dump(combined_data_train, f)\n",
    "\n",
    "with open(os.path.join(\"combined_dataset\", f\"combined_val.pickle\"), \"wb\") as f:\n",
    "    pickle.dump(combined_data_val, f)\n",
    "\n",
    "with open(os.path.join(\"combined_dataset\", f\"combined_test.pickle\"), \"wb\") as f:\n",
    "    pickle.dump(combined_data_test, f)"
   ]
  },
  {
   "cell_type": "code",
   "execution_count": 5,
   "metadata": {},
   "outputs": [
    {
     "name": "stdout",
     "output_type": "stream",
     "text": [
      "1243\n"
     ]
    }
   ],
   "source": [
    "print(len(combined_data_test))"
   ]
  },
  {
   "cell_type": "code",
   "execution_count": 6,
   "metadata": {},
   "outputs": [
    {
     "name": "stdout",
     "output_type": "stream",
     "text": [
      "1242\n"
     ]
    }
   ],
   "source": [
    "print(len(combined_data_val))"
   ]
  },
  {
   "cell_type": "code",
   "execution_count": 7,
   "metadata": {},
   "outputs": [
    {
     "name": "stdout",
     "output_type": "stream",
     "text": [
      "1500\n"
     ]
    }
   ],
   "source": [
    "print(len(combined_data_train))"
   ]
  },
  {
   "cell_type": "code",
   "execution_count": null,
   "metadata": {},
   "outputs": [],
   "source": []
  }
 ],
 "metadata": {
  "kernelspec": {
   "display_name": "thesis",
   "language": "python",
   "name": "python3"
  },
  "language_info": {
   "codemirror_mode": {
    "name": "ipython",
    "version": 3
   },
   "file_extension": ".py",
   "mimetype": "text/x-python",
   "name": "python",
   "nbconvert_exporter": "python",
   "pygments_lexer": "ipython3",
   "version": "3.12.1"
  }
 },
 "nbformat": 4,
 "nbformat_minor": 2
}
