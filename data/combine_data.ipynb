{
 "cells": [
  {
   "cell_type": "code",
   "execution_count": 1,
   "metadata": {},
   "outputs": [
    {
     "name": "stdout",
     "output_type": "stream",
     "text": [
      "['DDR', 'DDRch1', 'DDRch2', 'FAU', 'FAUch', 'ITW', 'MEL', 'MELch', 'MFI', 'MOR', 'RHO', 'TON', 'TON2', 'TON3', 'TON4', 'TONch']\n"
     ]
    }
   ],
   "source": [
    "import os\n",
    "import pickle\n",
    "\n",
    "# Define the directories to process\n",
    "root, directories, files = os.walk(\".\").__next__()\n",
    "\n",
    "print(directories)\n",
    "\n",
    "# Create the \"combined_dataset\" directory if it doesn't exist\n",
    "os.makedirs(\"combined_dataset_zeonet_data\", exist_ok=True)\n",
    "\n",
    "\n",
    "combined_data_train = []\n",
    "combined_data_val = []\n",
    "combined_data_test = []\n",
    "# Process each directory\n",
    "for directory in directories[1:]:\n",
    "    # Open the train, validation, and test pickle files for the current directory\n",
    "    with open(os.path.join(directory, f\"{directory}_train.pkl\"), \"rb\") as f:\n",
    "        train_data = pickle.load(f)\n",
    "\n",
    "    with open(os.path.join(directory, f\"{directory}_val.pkl\"), \"rb\") as f:\n",
    "        val_data = pickle.load(f)\n",
    "\n",
    "    with open(os.path.join(directory, f\"{directory}_test.pkl\"), \"rb\") as f:\n",
    "        test_data = pickle.load(f)\n",
    "\n",
    "    # # Add zeolite code to the data as a property of each record\n",
    "    # for data in train_data:\n",
    "    #     data[\"zeolite_code\"] = directory\n",
    "    # for data in val_data:\n",
    "    #     data[\"zeolite_code\"] = directory\n",
    "    # for data in test_data:\n",
    "    #     data[\"zeolite_code\"] = directory\n",
    "\n",
    "\n",
    "    # Combine the data from each directory into a single list\n",
    "    combined_data_train += train_data\n",
    "    combined_data_val += val_data\n",
    "    combined_data_test += test_data\n",
    "\n",
    "# Save the combined data to a pickle file in the \"combined_dataset\" directory\n",
    "with open(os.path.join(\"combined_dataset_zeonet_data\", f\"combined_train.pickle\"), \"wb\") as f:\n",
    "    pickle.dump(combined_data_train, f)\n",
    "\n",
    "with open(os.path.join(\"combined_dataset_zeonet_data\", f\"combined_val.pickle\"), \"wb\") as f:\n",
    "    pickle.dump(combined_data_val, f)\n",
    "\n",
    "with open(os.path.join(\"combined_dataset_zeonet_data\", f\"combined_test.pickle\"), \"wb\") as f:\n",
    "    pickle.dump(combined_data_test, f)"
   ]
  },
  {
   "cell_type": "code",
   "execution_count": 2,
   "metadata": {},
   "outputs": [
    {
     "name": "stdout",
     "output_type": "stream",
     "text": [
      "3215\n"
     ]
    }
   ],
   "source": [
    "print(len(combined_data_test))"
   ]
  },
  {
   "cell_type": "code",
   "execution_count": 3,
   "metadata": {},
   "outputs": [
    {
     "name": "stdout",
     "output_type": "stream",
     "text": [
      "3198\n"
     ]
    }
   ],
   "source": [
    "print(len(combined_data_val))"
   ]
  },
  {
   "cell_type": "code",
   "execution_count": 4,
   "metadata": {},
   "outputs": [
    {
     "name": "stdout",
     "output_type": "stream",
     "text": [
      "9603\n"
     ]
    }
   ],
   "source": [
    "print(len(combined_data_train))"
   ]
  },
  {
   "cell_type": "code",
   "execution_count": 3,
   "metadata": {},
   "outputs": [
    {
     "ename": "FileNotFoundError",
     "evalue": "[Errno 2] No such file or directory: 'combined_dataset_total\\\\combined_train.pickle'",
     "output_type": "error",
     "traceback": [
      "\u001b[1;31m---------------------------------------------------------------------------\u001b[0m",
      "\u001b[1;31mFileNotFoundError\u001b[0m                         Traceback (most recent call last)",
      "Cell \u001b[1;32mIn[3], line 14\u001b[0m\n\u001b[0;32m     11\u001b[0m combined_data_train \u001b[38;5;241m=\u001b[39m combined_zeonet_data_train \u001b[38;5;241m+\u001b[39m combined_gen_data_train\n\u001b[0;32m     13\u001b[0m \u001b[38;5;66;03m# Save the combined data to a pickle file in the \"combined_dataset_total\" directory\u001b[39;00m\n\u001b[1;32m---> 14\u001b[0m \u001b[38;5;28;01mwith\u001b[39;00m \u001b[38;5;28;43mopen\u001b[39;49m\u001b[43m(\u001b[49m\u001b[43mos\u001b[49m\u001b[38;5;241;43m.\u001b[39;49m\u001b[43mpath\u001b[49m\u001b[38;5;241;43m.\u001b[39;49m\u001b[43mjoin\u001b[49m\u001b[43m(\u001b[49m\u001b[38;5;124;43m\"\u001b[39;49m\u001b[38;5;124;43mcombined_dataset_total\u001b[39;49m\u001b[38;5;124;43m\"\u001b[39;49m\u001b[43m,\u001b[49m\u001b[43m \u001b[49m\u001b[38;5;124;43mf\u001b[39;49m\u001b[38;5;124;43m\"\u001b[39;49m\u001b[38;5;124;43mcombined_train.pickle\u001b[39;49m\u001b[38;5;124;43m\"\u001b[39;49m\u001b[43m)\u001b[49m\u001b[43m,\u001b[49m\u001b[43m \u001b[49m\u001b[38;5;124;43m\"\u001b[39;49m\u001b[38;5;124;43mwb\u001b[39;49m\u001b[38;5;124;43m\"\u001b[39;49m\u001b[43m)\u001b[49m \u001b[38;5;28;01mas\u001b[39;00m f:\n\u001b[0;32m     15\u001b[0m     pickle\u001b[38;5;241m.\u001b[39mdump(combined_data_train, f)\n\u001b[0;32m     17\u001b[0m \u001b[38;5;66;03m# Do the same for the validation and test sets\u001b[39;00m\n",
      "File \u001b[1;32mc:\\Users\\dglav\\Anaconda3\\envs\\thesis\\Lib\\site-packages\\IPython\\core\\interactiveshell.py:324\u001b[0m, in \u001b[0;36m_modified_open\u001b[1;34m(file, *args, **kwargs)\u001b[0m\n\u001b[0;32m    317\u001b[0m \u001b[38;5;28;01mif\u001b[39;00m file \u001b[38;5;129;01min\u001b[39;00m {\u001b[38;5;241m0\u001b[39m, \u001b[38;5;241m1\u001b[39m, \u001b[38;5;241m2\u001b[39m}:\n\u001b[0;32m    318\u001b[0m     \u001b[38;5;28;01mraise\u001b[39;00m \u001b[38;5;167;01mValueError\u001b[39;00m(\n\u001b[0;32m    319\u001b[0m         \u001b[38;5;124mf\u001b[39m\u001b[38;5;124m\"\u001b[39m\u001b[38;5;124mIPython won\u001b[39m\u001b[38;5;124m'\u001b[39m\u001b[38;5;124mt let you open fd=\u001b[39m\u001b[38;5;132;01m{\u001b[39;00mfile\u001b[38;5;132;01m}\u001b[39;00m\u001b[38;5;124m by default \u001b[39m\u001b[38;5;124m\"\u001b[39m\n\u001b[0;32m    320\u001b[0m         \u001b[38;5;124m\"\u001b[39m\u001b[38;5;124mas it is likely to crash IPython. If you know what you are doing, \u001b[39m\u001b[38;5;124m\"\u001b[39m\n\u001b[0;32m    321\u001b[0m         \u001b[38;5;124m\"\u001b[39m\u001b[38;5;124myou can use builtins\u001b[39m\u001b[38;5;124m'\u001b[39m\u001b[38;5;124m open.\u001b[39m\u001b[38;5;124m\"\u001b[39m\n\u001b[0;32m    322\u001b[0m     )\n\u001b[1;32m--> 324\u001b[0m \u001b[38;5;28;01mreturn\u001b[39;00m \u001b[43mio_open\u001b[49m\u001b[43m(\u001b[49m\u001b[43mfile\u001b[49m\u001b[43m,\u001b[49m\u001b[43m \u001b[49m\u001b[38;5;241;43m*\u001b[39;49m\u001b[43margs\u001b[49m\u001b[43m,\u001b[49m\u001b[43m \u001b[49m\u001b[38;5;241;43m*\u001b[39;49m\u001b[38;5;241;43m*\u001b[39;49m\u001b[43mkwargs\u001b[49m\u001b[43m)\u001b[49m\n",
      "\u001b[1;31mFileNotFoundError\u001b[0m: [Errno 2] No such file or directory: 'combined_dataset_total\\\\combined_train.pickle'"
     ]
    }
   ],
   "source": [
    "import os\n",
    "import pickle\n",
    "\n",
    "# Create directory if it doesn't exist\n",
    "os.makedirs(\"combined_dataset_total\", exist_ok=True)\n",
    "\n",
    "# Combine the data from combined_dataset_zeonet_data and combined_dataset_gen_data into a single list\n",
    "with open(os.path.join(\"combined_dataset_zeonet_data\", f\"combined_train.pickle\"), \"rb\") as f:\n",
    "    combined_zeonet_data_train = pickle.load(f)\n",
    "\n",
    "with open(os.path.join(\"combined_dataset_gen_data\", f\"combined_train.pickle\"), \"rb\") as f:\n",
    "    combined_gen_data_train = pickle.load(f)\n",
    "\n",
    "combined_data_train = combined_zeonet_data_train + combined_gen_data_train\n",
    "\n",
    "# Save the combined data to a pickle file in the \"combined_dataset_total\" directory\n",
    "with open(os.path.join(\"combined_dataset_total\", f\"combined_train.pickle\"), \"wb\") as f:\n",
    "    pickle.dump(combined_data_train, f)\n",
    "\n",
    "# Do the same for the validation and test sets\n",
    "with open(os.path.join(\"combined_dataset_zeonet_data\", f\"combined_val.pickle\"), \"rb\") as f:\n",
    "    combined_zeonet_data_val = pickle.load(f)\n",
    "\n",
    "with open(os.path.join(\"combined_dataset_gen_data\", f\"combined_val.pickle\"), \"rb\") as f:\n",
    "    combined_gen_data_val = pickle.load(f)\n",
    "\n",
    "combined_data_val = combined_zeonet_data_val + combined_gen_data_val\n",
    "\n",
    "with open(os.path.join(\"combined_dataset_total\", f\"combined_val.pickle\"), \"wb\") as f:\n",
    "    pickle.dump(combined_data_val, f)\n",
    "\n",
    "with open(os.path.join(\"combined_dataset_zeonet_data\", f\"combined_test.pickle\"), \"rb\") as f:\n",
    "    combined_zeonet_data_test = pickle.load(f)\n",
    "\n",
    "with open(os.path.join(\"combined_dataset_gen_data\", f\"combined_test.pickle\"), \"rb\") as f:\n",
    "    combined_gen_data_test = pickle.load(f)\n",
    "\n",
    "combined_data_test = combined_zeonet_data_test + combined_gen_data_test\n",
    "\n",
    "with open(os.path.join(\"combined_dataset_total\", f\"combined_test.pickle\"), \"wb\") as f:\n",
    "    pickle.dump(combined_data_test, f)\n",
    "\n"
   ]
  },
  {
   "cell_type": "code",
   "execution_count": null,
   "metadata": {},
   "outputs": [],
   "source": []
  }
 ],
 "metadata": {
  "kernelspec": {
   "display_name": "thesis",
   "language": "python",
   "name": "python3"
  },
  "language_info": {
   "codemirror_mode": {
    "name": "ipython",
    "version": 3
   },
   "file_extension": ".py",
   "mimetype": "text/x-python",
   "name": "python",
   "nbconvert_exporter": "python",
   "pygments_lexer": "ipython3",
   "version": "3.12.1"
  }
 },
 "nbformat": 4,
 "nbformat_minor": 2
}
