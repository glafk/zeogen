{
 "cells": [
  {
   "cell_type": "code",
   "execution_count": 5,
   "metadata": {},
   "outputs": [
    {
     "name": "stdout",
     "output_type": "stream",
     "text": [
      "BEC 36.34289794238683 5.210157699183983\n",
      "CHA 35.303938008130075 4.343490673437941\n",
      "DDRch1 37.183385534591196 4.656251908625993\n",
      "DDRch2 37.26874822006472 5.036733631742368\n",
      "ERI 36.76764695121951 4.309114916361526\n",
      "FAU 34.0741245416079 7.580728704024696\n",
      "FAUch 33.30132694736842 4.5424740464003985\n",
      "FER 45.683843089430894 3.893401202750922\n",
      "HEU 42.717769715447155 7.357330367124597\n",
      "ITW 44.31117683544304 5.289644607023737\n",
      "LTA 33.09635591182364 3.622782797880845\n",
      "LTL 32.04783272357724 2.7392199632077143\n",
      "MEL 42.499840151515144 8.887492609181827\n",
      "MELch 43.91289302325581 6.875302079594195\n",
      "MER 38.1302890946502 4.386876942672151\n",
      "MFI 42.736209705215416 5.5731885347370405\n",
      "MOR 37.64077196666667 4.403738000748621\n",
      "MTW 44.40935183673469 6.198169121189254\n",
      "NAT 45.10882409638554 3.454827055421614\n",
      "RHO 29.490237241379308 2.9173342488517533\n",
      "TON 43.63866666666666 8.046479578714326\n",
      "TON2 43.22047142857143 6.547443840148456\n",
      "TON3 43.48229890710383 7.410828179503221\n",
      "TON4 44.19614354838709 7.850420383209014\n",
      "TONch 49.55126493506494 7.191680991775966\n",
      "YFI 37.05150806794055 7.511811342410623\n"
     ]
    }
   ],
   "source": [
    "import pickle\n",
    "import numpy as np\n",
    "\n",
    "# Assert that each record in the list has \"angles\" property\n",
    "with open('combined_train.pickle', 'rb') as file:\n",
    "    crystal_dict_list = pickle.load(file)\n",
    "    assert all('angles' in record for record in crystal_dict_list)\n",
    "    assert all(len(record['angles']) == 3 for record in crystal_dict_list)\n",
    "    \n",
    "    # Extract HOA and zeolite codes\n",
    "    hoa = np.array([entry['hoa'] for entry in crystal_dict_list])\n",
    "    zeo_code = np.array([entry['zeolite_code'] for entry in crystal_dict_list])\n",
    "\n",
    "    # Find unique zeolite codes\n",
    "    unique_zeo_codes = np.unique(zeo_code)\n",
    "\n",
    "    # Find the maximum HOA for each zeolite type\n",
    "    mean_hoa_per_zeo_code = {}\n",
    "    std_hoa_per_zeo_code = {}\n",
    "    for code in unique_zeo_codes:\n",
    "        # Get the HOA values corresponding to the current zeolite code\n",
    "        hoa_values_for_code = np.array([entry['hoa'] for entry in crystal_dict_list if entry['zeolite_code'] == code])\n",
    "        mean_hoa_per_zeo_code[code] = np.mean(hoa_values_for_code)\n",
    "        std_hoa_per_zeo_code[code] = np.std(hoa_values_for_code)\n",
    "\n",
    "        print(code, mean_hoa_per_zeo_code[code], std_hoa_per_zeo_code[code])\n",
    "\n",
    "\n",
    "    # Add normalized HOA\n",
    "    for entry in crystal_dict_list:\n",
    "        mean_hoa = mean_hoa_per_zeo_code[entry['zeolite_code']]\n",
    "        std_hoa = std_hoa_per_zeo_code[entry['zeolite_code']]\n",
    "        entry['norm_hoa'] = (entry['hoa'] - mean_hoa) / std_hoa"
   ]
  },
  {
   "cell_type": "code",
   "execution_count": 6,
   "metadata": {},
   "outputs": [
    {
     "name": "stdout",
     "output_type": "stream",
     "text": [
      "26\n",
      "{'DDRch1': [13.795, 13.795, 40.75], 'DDRch2': [13.795, 13.795, 40.75], 'FAU': [24.345, 24.345, 24.345], 'FAUch': [24.345, 24.345, 24.345], 'ITW': [10.45, 8.954, 8.954], 'MEL': [20.27, 20.27, 13.459], 'MELch': [20.27, 20.27, 13.459], 'MFI': [20.09, 19.738, 13.142], 'MOR': [18.256, 20.534, 7.542], 'RHO': [15.031, 15.031, 15.031], 'TON': [14.1, 17.84, 5.25], 'TON2': [14.105, 17.842, 5.256], 'TON3': [14.105, 17.842, 5.256], 'TON4': [14.105, 17.842, 5.256], 'TONch': [14.105, 17.842, 5.256], 'BEC': [12.77, 12.77, 12.977], 'CHA': [13.675, 13.675, 14.767], 'ERI': [13.054, 13.054, 15.175], 'FER': [19.018, 14.303, 7.541], 'HEU': [17.523, 17.644, 7.401], 'LTA': [11.919, 11.919, 11.919], 'LTL': [18.126, 18.126, 7.567], 'MER': [14.012, 14.012, 9.954], 'MTW': [25.552, 5.256, 12.117], 'NAT': [13.85, 13.85, 6.42], 'YFI': [18.181, 31.841, 12.641]}\n",
      "26\n",
      "{'DDRch1': 0, 'DDRch2': 1, 'FAU': 2, 'FAUch': 3, 'ITW': 4, 'MEL': 5, 'MELch': 6, 'MFI': 7, 'MOR': 8, 'RHO': 9, 'TON': 10, 'TON2': 11, 'TON3': 12, 'TON4': 13, 'TONch': 14, 'BEC': 15, 'CHA': 16, 'ERI': 17, 'FER': 18, 'HEU': 19, 'LTA': 20, 'LTL': 21, 'MER': 22, 'MTW': 23, 'NAT': 24, 'YFI': 25}\n"
     ]
    }
   ],
   "source": [
    "import pickle\n",
    "\n",
    "# Find all unique zeolite codes\n",
    "with open('combined_train.pickle', 'rb') as file:\n",
    "    data = pickle.load(file)\n",
    "    unique_zeolite_codes = {}\n",
    "    for record in data:\n",
    "        unique_zeolite_codes.update({record[\"zeolite_code\"]: record['lengths']})\n",
    "    print(len(unique_zeolite_codes))\n",
    "\n",
    "\n",
    "print(unique_zeolite_codes)\n",
    "print(len(unique_zeolite_codes))\n",
    "\n",
    "unique_zeolite_codes_mapping = {code: i for i, code in enumerate(unique_zeolite_codes)}\n",
    "print(unique_zeolite_codes_mapping)"
   ]
  },
  {
   "cell_type": "code",
   "execution_count": null,
   "metadata": {},
   "outputs": [],
   "source": []
  }
 ],
 "metadata": {
  "kernelspec": {
   "display_name": "thesis",
   "language": "python",
   "name": "python3"
  },
  "language_info": {
   "codemirror_mode": {
    "name": "ipython",
    "version": 3
   },
   "file_extension": ".py",
   "mimetype": "text/x-python",
   "name": "python",
   "nbconvert_exporter": "python",
   "pygments_lexer": "ipython3",
   "version": "3.12.1"
  }
 },
 "nbformat": 4,
 "nbformat_minor": 2
}
