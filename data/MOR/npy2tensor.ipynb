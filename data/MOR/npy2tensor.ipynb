{
 "cells": [
  {
   "cell_type": "code",
   "execution_count": 1,
   "metadata": {},
   "outputs": [
    {
     "name": "stdout",
     "output_type": "stream",
     "text": [
      "atoms: (5011, 48)\n",
      "X: (48, 3)\n",
      "hoa: (5011,)\n"
     ]
    }
   ],
   "source": [
    "# This code transforms the data from atoms.npy, hoa.npy and X.npy into the tensor list that the dataloader expects\n",
    "# when runnning the preprocess_tensors method\n",
    "\n",
    "import numpy as np\n",
    "\n",
    "atoms = np.load(\"atoms.npy\")\n",
    "X = np.load(\"X.npy\")\n",
    "hoa = np.load(\"hoa.npy\")\n",
    "\n",
    "# Replace values in the atoms object with 13 where there is 1 and 14 where there is 0\n",
    "atoms = np.where(atoms == 1, 13, np.where(atoms == 0, 14, atoms))\n",
    "\n",
    "# Print dimensions of all objects\n",
    "print(\"atoms:\", atoms.shape)\n",
    "print(\"X:\", X.shape)\n",
    "print(\"hoa:\", hoa.shape)\n"
   ]
  },
  {
   "cell_type": "code",
   "execution_count": 2,
   "metadata": {},
   "outputs": [
    {
     "name": "stdout",
     "output_type": "stream",
     "text": [
      "5011 5011 5011 5011 5011\n"
     ]
    }
   ],
   "source": [
    "import pickle\n",
    "\n",
    "angles = [90, 90, 90]\n",
    "lengths = [18.256, 20.534, 7.542]\n",
    "\n",
    "frac_coords = [X] * len(atoms)\n",
    "angles = [angles] * len(atoms)\n",
    "lengths = [lengths] * len(atoms)\n",
    "\n",
    "# Zip the arrays together into a dict with the keys 'frac_coords', 'atom_types', 'lengths', 'angles', 'hoa'\n",
    "print(len(frac_coords), len(atoms), len(lengths), len(angles), len(hoa))\n",
    "assert len(frac_coords) == len(atoms) == len(lengths) == len(angles) == len(hoa)\n",
    "\n",
    "crystal_list = []\n",
    "\n",
    "for i in range(len(frac_coords)):\n",
    "    data = {\n",
    "        'frac_coords': frac_coords[i],\n",
    "        'atom_types': atoms[i],\n",
    "        'lengths': lengths[i],\n",
    "        'angles': angles[i],\n",
    "        'hoa': hoa[i]\n",
    "    }\n",
    "\n",
    "    crystal_list.append(data)\n",
    "\n",
    "# Save the data to a pickle file called MFI_data.npy\n",
    "with open(\"MOR_data.pickle\", \"wb\") as f:\n",
    "    pickle.dump(crystal_list, f)\n",
    "\n"
   ]
  },
  {
   "cell_type": "code",
   "execution_count": 3,
   "metadata": {},
   "outputs": [],
   "source": [
    "import pickle\n",
    "\n",
    "# Split the data into train, validaiton and test sets and save them to pickle files\n",
    "with open(\"MOR_data.pickle\", \"rb\") as f:\n",
    "    data = pickle.load(f)\n",
    "    # Calculate how many samples from the list need to be in each set based on 60/20/20 split\n",
    "    train_size = int(0.6 * len(data))\n",
    "    val_size = int(0.2 * len(data))\n",
    "    test_size = len(data) - train_size - val_size\n",
    "\n",
    "    # Split the data into train, validation and test sets\n",
    "    train_data = data[:train_size]\n",
    "\n",
    "    val_data = data[train_size:train_size + val_size]\n",
    "\n",
    "    test_data = data[train_size + val_size:]\n",
    "\n",
    "    # Save the data to pickle files\n",
    "    with open(\"MOR_train.pickle\", \"wb\") as f:\n",
    "        pickle.dump(train_data, f)\n",
    "\n",
    "    with open(\"MOR_val.pickle\", \"wb\") as f:\n",
    "        pickle.dump(val_data, f)\n",
    "\n",
    "    with open(\"MOR_test.pickle\", \"wb\") as f:\n",
    "        pickle.dump(test_data, f)\n",
    "\n",
    "\n"
   ]
  },
  {
   "cell_type": "code",
   "execution_count": null,
   "metadata": {},
   "outputs": [],
   "source": []
  }
 ],
 "metadata": {
  "kernelspec": {
   "display_name": "thesis",
   "language": "python",
   "name": "python3"
  },
  "language_info": {
   "codemirror_mode": {
    "name": "ipython",
    "version": 3
   },
   "file_extension": ".py",
   "mimetype": "text/x-python",
   "name": "python",
   "nbconvert_exporter": "python",
   "pygments_lexer": "ipython3",
   "version": "3.12.1"
  }
 },
 "nbformat": 4,
 "nbformat_minor": 2
}
