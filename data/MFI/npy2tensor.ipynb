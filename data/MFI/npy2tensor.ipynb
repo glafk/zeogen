{
 "cells": [
  {
   "cell_type": "code",
   "execution_count": 1,
   "metadata": {},
   "outputs": [
    {
     "name": "stdout",
     "output_type": "stream",
     "text": [
      "atoms: (3296, 96)\n",
      "X: (96, 3)\n",
      "hoa: (3296,)\n"
     ]
    }
   ],
   "source": [
    "# This code transforms the data from atoms.npy, hoa.npy and X.npy into the tensor list that the dataloader expects\n",
    "# when runnning the preprocess_tensors method\n",
    "\n",
    "import numpy as np\n",
    "\n",
    "atoms = np.load(\"atoms.npy\")\n",
    "X = np.load(\"X.npy\")\n",
    "hoa = np.load(\"hoa.npy\")\n",
    "\n",
    "# Replace values in the atoms object with 13 where there is 1 and 14 where there is 0\n",
    "atoms = np.where(atoms == 1, 13, np.where(atoms == 0, 14, atoms))\n",
    "\n",
    "# Print dimensions of all objects\n",
    "print(\"atoms:\", atoms.shape)\n",
    "print(\"X:\", X.shape)\n",
    "print(\"hoa:\", hoa.shape)\n"
   ]
  },
  {
   "cell_type": "code",
   "execution_count": 4,
   "metadata": {},
   "outputs": [],
   "source": [
    "import pickle\n",
    "\n",
    "angles = [90, 90, 90]\n",
    "lengths = [20.09, 19.738, 13.142]\n",
    "\n",
    "frac_coords = X * len(atoms)\n",
    "angles = angles * len(atoms)\n",
    "lengths = lengths * len(atoms)\n",
    "\n",
    "# Zip the arrays together into a dict with the keys 'frac_coords', 'atom_types', 'lengths', 'angles', 'hoa'\n",
    "data = {\n",
    "    'frac_coords': frac_coords,\n",
    "    'atom_types': atoms,\n",
    "    'lengths': lengths,\n",
    "    'angles': angles,\n",
    "    'hoa': hoa\n",
    "}\n",
    "\n",
    "# Save the data to a pickle file called MFI_data.npy\n",
    "with open(\"MFI_data.pickle\", \"wb\") as f:\n",
    "    pickle.dump(data, f)\n",
    "\n"
   ]
  },
  {
   "cell_type": "code",
   "execution_count": null,
   "metadata": {},
   "outputs": [],
   "source": []
  }
 ],
 "metadata": {
  "kernelspec": {
   "display_name": "thesis",
   "language": "python",
   "name": "python3"
  },
  "language_info": {
   "codemirror_mode": {
    "name": "ipython",
    "version": 3
   },
   "file_extension": ".py",
   "mimetype": "text/x-python",
   "name": "python",
   "nbconvert_exporter": "python",
   "pygments_lexer": "ipython3",
   "version": "3.12.1"
  }
 },
 "nbformat": 4,
 "nbformat_minor": 2
}
