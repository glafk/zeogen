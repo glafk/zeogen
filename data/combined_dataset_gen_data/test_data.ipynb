{
 "cells": [
  {
   "cell_type": "code",
   "execution_count": 2,
   "metadata": {},
   "outputs": [
    {
     "name": "stdout",
     "output_type": "stream",
     "text": [
      "Broken samples for 0\n"
     ]
    }
   ],
   "source": [
    "import pickle\n",
    "\n",
    "# Assert that each record in the list has \"angles\" property\n",
    "with open('combined_train.pickle', 'rb') as file:\n",
    "    data = pickle.load(file)\n",
    "    assert all('angles' in record for record in data)\n",
    "    assert all(len(record['angles']) == 3 for record in data)\n",
    "\n",
    "\n",
    "    for record in data:\n",
    "        counter = 0\n",
    "        \n",
    "        # Check if any of the angles is negative or greater than 180\n",
    "        for angle in record['angles']:\n",
    "            if angle < 0 or angle > 180:\n",
    "                counter += 1\n",
    "                \n",
    "    print(f\"Broken samples for {counter}\")\n",
    "    # for i in range(32):\n",
    "    #     print(type(data[i][\"angles\"]))\n",
    "    #     print(type(data[i][\"lengths\"]))\n",
    "    #     #print(data[i][\"angles\"].dtype)\n",
    "    #     #print(data[i][\"lengths\"].dtype)\n",
    "    #     print(len(data[i][\"lengths\"]))\n",
    "    #     print(len(data[i][\"angles\"]))\n",
    "    #     print(data[i][\"lengths\"])\n",
    "    #     print(data[i][\"angles\"])\n",
    "    #     print(*(data[i][\"lengths\"]+data[i][\"angles\"]))"
   ]
  },
  {
   "cell_type": "code",
   "execution_count": null,
   "metadata": {},
   "outputs": [],
   "source": []
  }
 ],
 "metadata": {
  "kernelspec": {
   "display_name": "thesis",
   "language": "python",
   "name": "python3"
  },
  "language_info": {
   "codemirror_mode": {
    "name": "ipython",
    "version": 3
   },
   "file_extension": ".py",
   "mimetype": "text/x-python",
   "name": "python",
   "nbconvert_exporter": "python",
   "pygments_lexer": "ipython3",
   "version": "3.12.1"
  }
 },
 "nbformat": 4,
 "nbformat_minor": 2
}
