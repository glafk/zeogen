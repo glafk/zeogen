{
 "cells": [
  {
   "cell_type": "code",
   "execution_count": 4,
   "metadata": {},
   "outputs": [
    {
     "name": "stderr",
     "output_type": "stream",
     "text": [
      "c:\\Users\\dglav\\Anaconda3\\envs\\thesis\\Lib\\site-packages\\hydra\\_internal\\defaults_list.py:251: UserWarning: In 'test': Defaults list is missing `_self_`. See https://hydra.cc/docs/1.2/upgrades/1.0_to_1.1/default_composition_order for more information\n",
      "  warnings.warn(msg, UserWarning)\n"
     ]
    },
    {
     "name": "stdout",
     "output_type": "stream",
     "text": [
      "{'data': {'root_path': 'C:/TUE/Thesis/zeogen/data/MOR', 'prop': 'hoa', 'num_targets': 1, 'niggli': False, 'primitive': True, 'graph_method': 'crystalnn', 'lattice_scale_method': 'scale_length', 'preprocess_workers': 4, 'readout': 'mean', 'max_atoms': 128, 'otf_graph': False, 'eval_model_name': 'hoa', 'datamodule': {'_target_': 'source.data_utils.data_module.CrystDataModule', 'datasets': {'train': {'_target_': 'source.data_utils.CrystalDataset.TensorCrystDataset', 'name': 'HOA train', 'path': '${data.root_path}/MOR_train.pickle', 'prop': '${data.prop}', 'niggli': '${data.niggli}', 'primitive': '${data.primitive}', 'graph_method': '${data.graph_method}', 'lattice_scale_method': '${data.lattice_scale_method}', 'preprocess_workers': '${data.preprocess_workers}'}, 'val': {'_target_': 'source.data_utils.CrystalDataset.TensorCrystDataset', 'name': 'HOA val', 'path': '${data.root_path}/MOR_val.pickle', 'prop': '${data.prop}', 'niggli': '${data.niggli}', 'primitive': '${data.primitive}', 'graph_method': '${data.graph_method}', 'lattice_scale_method': '${data.lattice_scale_method}', 'preprocess_workers': '${data.preprocess_workers}'}, 'test': {'_target_': 'source.data_utils.CrystalDataset.TensorCrystDataset', 'name': 'HOA test', 'path': '${data.root_path}/MOR_test.pickle', 'prop': '${data.prop}', 'niggli': '${data.niggli}', 'primitive': '${data.primitive}', 'graph_method': '${data.graph_method}', 'lattice_scale_method': '${data.lattice_scale_method}', 'preprocess_workers': '${data.preprocess_workers}'}}, 'num_workers': {'train': 1, 'val': 1, 'test': 1}, 'batch_size': {'train': 16, 'val': 16, 'test': 16}}}, 'expname': 'test', 'core': {'version': '0.0.1', 'tags': ['${now:%Y-%m-%d}']}}\n"
     ]
    },
    {
     "name": "stderr",
     "output_type": "stream",
     "text": [
      "0it [00:00, ?it/s]\n",
      "c:\\TUE\\Thesis\\zeogen\\source\\data_utils\\crystal_utils.py:553: UserWarning: To copy construct from a tensor, it is recommended to use sourceTensor.clone().detach() or sourceTensor.clone().detach().requires_grad_(True), rather than torch.tensor(sourceTensor).\n",
      "  X = torch.tensor(X, dtype=torch.float)\n",
      "c:\\TUE\\Thesis\\zeogen\\source\\data_utils\\crystal_utils.py:556: UserWarning: std(): degrees of freedom is <= 0. Correction should be strictly less than the reduction factor (input numel divided by output numel). (Triggered internally at ..\\aten\\src\\ATen\\native\\ReduceOps.cpp:1760.)\n",
      "  self.stds = torch.std(X, dim=0, unbiased=False) + EPSILON\n"
     ]
    }
   ],
   "source": [
    "from hydra import initialize, compose\n",
    "import hydra\n",
    "import pytorch_lightning as pl\n",
    "\n",
    "with initialize(version_base=None, config_path=\"./conf\"):\n",
    "    cfg = compose(config_name=\"test\")\n",
    "    print(cfg)\n",
    "    datamodule: pl.LightningDataModule = hydra.utils.instantiate(\n",
    "        cfg.data.datamodule, _recursive_=False\n",
    "    )"
   ]
  },
  {
   "cell_type": "code",
   "execution_count": 6,
   "metadata": {},
   "outputs": [
    {
     "data": {
      "text/plain": [
       "CrystDataModule(self.datasets={'train': {'_target_': 'source.data_utils.CrystalDataset.TensorCrystDataset', 'name': 'HOA train', 'path': 'C:/TUE/Thesis/zeogen/data/MOR/MOR_train.pickle', 'prop': 'hoa', 'niggli': False, 'primitive': True, 'graph_method': 'crystalnn', 'lattice_scale_method': 'scale_length', 'preprocess_workers': 4}, 'val': {'_target_': 'source.data_utils.CrystalDataset.TensorCrystDataset', 'name': 'HOA val', 'path': 'C:/TUE/Thesis/zeogen/data/MOR/MOR_val.pickle', 'prop': 'hoa', 'niggli': False, 'primitive': True, 'graph_method': 'crystalnn', 'lattice_scale_method': 'scale_length', 'preprocess_workers': 4}, 'test': {'_target_': 'source.data_utils.CrystalDataset.TensorCrystDataset', 'name': 'HOA test', 'path': 'C:/TUE/Thesis/zeogen/data/MOR/MOR_test.pickle', 'prop': 'hoa', 'niggli': False, 'primitive': True, 'graph_method': 'crystalnn', 'lattice_scale_method': 'scale_length', 'preprocess_workers': 4}}, self.num_workers={'train': 1, 'val': 1, 'test': 1}, self.batch_size={'train': 16, 'val': 16, 'test': 16})"
      ]
     },
     "execution_count": 6,
     "metadata": {},
     "output_type": "execute_result"
    }
   ],
   "source": [
    "datamodule"
   ]
  },
  {
   "cell_type": "code",
   "execution_count": null,
   "metadata": {},
   "outputs": [],
   "source": []
  }
 ],
 "metadata": {
  "kernelspec": {
   "display_name": "thesis",
   "language": "python",
   "name": "python3"
  },
  "language_info": {
   "codemirror_mode": {
    "name": "ipython",
    "version": 3
   },
   "file_extension": ".py",
   "mimetype": "text/x-python",
   "name": "python",
   "nbconvert_exporter": "python",
   "pygments_lexer": "ipython3",
   "version": "3.12.1"
  }
 },
 "nbformat": 4,
 "nbformat_minor": 2
}
